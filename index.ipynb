{
 "cells": [
  {
   "cell_type": "markdown",
   "metadata": {},
   "source": [
    "# Modeling Our Data - Lab"
   ]
  },
  {
   "cell_type": "markdown",
   "metadata": {},
   "source": [
    "## Introduction \n",
    "\n",
    "In this lab we'll perform a full linear regression on our data. We'll take a stepwise approach and we'll try to improve our model as we go."
   ]
  },
  {
   "cell_type": "markdown",
   "metadata": {},
   "source": [
    "## Objectives\n",
    "You will be able to:\n",
    "\n",
    "* Remove predictors with p-values too high and refit the model\n",
    "* Examine and interpret the model results\n",
    "* Split data into training and testing sets\n",
    "* Fit a regression model to the data set using statsmodel library\n"
   ]
  },
  {
   "cell_type": "markdown",
   "metadata": {},
   "source": [
    "## Build single linear regression models\n",
    "\n",
    "From the previous steps, it is pretty clear that we have quite a few predictors, but there are some issues with them. Linearity with the target \"Weekly_Sales\" wasn't apparent. If that's the case, it's always smart to start small, and go ahead and build linear regression models with just one input at the time. Somewhat like what we've done in section 10, let's look at some statistics for single linear regression models for all our *continuous* variables with the outcome.\n",
    "\n",
    "**Note: for now, we will not use holdout validation, as we're just trying to gauge interpretation and a sense of predictive capacity for each of the candidate predictors**"
   ]
  },
  {
   "cell_type": "markdown",
   "metadata": {},
   "source": [
    "### Load the cleaned dataset \"walmart_dataset.csv\", and check its contents "
   ]
  },
  {
   "cell_type": "code",
   "execution_count": 1,
   "metadata": {},
   "outputs": [],
   "source": [
    "import pandas as pd\n",
    "import numpy as np\n",
    "import matplotlib.pyplot as plt\n",
    "import seaborn as sns\n",
    "%matplotlib inline"
   ]
  },
  {
   "cell_type": "code",
   "execution_count": 2,
   "metadata": {},
   "outputs": [
    {
     "data": {
      "text/html": [
       "<div>\n",
       "<style scoped>\n",
       "    .dataframe tbody tr th:only-of-type {\n",
       "        vertical-align: middle;\n",
       "    }\n",
       "\n",
       "    .dataframe tbody tr th {\n",
       "        vertical-align: top;\n",
       "    }\n",
       "\n",
       "    .dataframe thead th {\n",
       "        text-align: right;\n",
       "    }\n",
       "</style>\n",
       "<table border=\"1\" class=\"dataframe\">\n",
       "  <thead>\n",
       "    <tr style=\"text-align: right;\">\n",
       "      <th></th>\n",
       "      <th>Weekly_Sales</th>\n",
       "      <th>IsHoliday</th>\n",
       "      <th>Size</th>\n",
       "      <th>Temperature</th>\n",
       "      <th>Fuel_Price</th>\n",
       "      <th>CPI</th>\n",
       "      <th>Unemployment</th>\n",
       "      <th>Store_1</th>\n",
       "      <th>Store_10</th>\n",
       "      <th>Store_2</th>\n",
       "      <th>...</th>\n",
       "      <th>binned_markdown_4_41-60%</th>\n",
       "      <th>binned_markdown_4_61-80%</th>\n",
       "      <th>binned_markdown_4_81-100%</th>\n",
       "      <th>binned_markdown_4_NaN</th>\n",
       "      <th>binned_markdown_5_0-20%</th>\n",
       "      <th>binned_markdown_5_21-40%</th>\n",
       "      <th>binned_markdown_5_41-60%</th>\n",
       "      <th>binned_markdown_5_61-80%</th>\n",
       "      <th>binned_markdown_5_81-100%</th>\n",
       "      <th>binned_markdown_5_NaN</th>\n",
       "    </tr>\n",
       "  </thead>\n",
       "  <tbody>\n",
       "    <tr>\n",
       "      <th>0</th>\n",
       "      <td>24924.50</td>\n",
       "      <td>False</td>\n",
       "      <td>0.283436</td>\n",
       "      <td>-1.301205</td>\n",
       "      <td>-1.56024</td>\n",
       "      <td>0.40349</td>\n",
       "      <td>0.913194</td>\n",
       "      <td>1</td>\n",
       "      <td>0</td>\n",
       "      <td>0</td>\n",
       "      <td>...</td>\n",
       "      <td>0</td>\n",
       "      <td>0</td>\n",
       "      <td>0</td>\n",
       "      <td>1</td>\n",
       "      <td>0</td>\n",
       "      <td>0</td>\n",
       "      <td>0</td>\n",
       "      <td>0</td>\n",
       "      <td>0</td>\n",
       "      <td>1</td>\n",
       "    </tr>\n",
       "    <tr>\n",
       "      <th>1</th>\n",
       "      <td>50605.27</td>\n",
       "      <td>False</td>\n",
       "      <td>0.283436</td>\n",
       "      <td>-1.301205</td>\n",
       "      <td>-1.56024</td>\n",
       "      <td>0.40349</td>\n",
       "      <td>0.913194</td>\n",
       "      <td>1</td>\n",
       "      <td>0</td>\n",
       "      <td>0</td>\n",
       "      <td>...</td>\n",
       "      <td>0</td>\n",
       "      <td>0</td>\n",
       "      <td>0</td>\n",
       "      <td>1</td>\n",
       "      <td>0</td>\n",
       "      <td>0</td>\n",
       "      <td>0</td>\n",
       "      <td>0</td>\n",
       "      <td>0</td>\n",
       "      <td>1</td>\n",
       "    </tr>\n",
       "    <tr>\n",
       "      <th>2</th>\n",
       "      <td>13740.12</td>\n",
       "      <td>False</td>\n",
       "      <td>0.283436</td>\n",
       "      <td>-1.301205</td>\n",
       "      <td>-1.56024</td>\n",
       "      <td>0.40349</td>\n",
       "      <td>0.913194</td>\n",
       "      <td>1</td>\n",
       "      <td>0</td>\n",
       "      <td>0</td>\n",
       "      <td>...</td>\n",
       "      <td>0</td>\n",
       "      <td>0</td>\n",
       "      <td>0</td>\n",
       "      <td>1</td>\n",
       "      <td>0</td>\n",
       "      <td>0</td>\n",
       "      <td>0</td>\n",
       "      <td>0</td>\n",
       "      <td>0</td>\n",
       "      <td>1</td>\n",
       "    </tr>\n",
       "    <tr>\n",
       "      <th>3</th>\n",
       "      <td>39954.04</td>\n",
       "      <td>False</td>\n",
       "      <td>0.283436</td>\n",
       "      <td>-1.301205</td>\n",
       "      <td>-1.56024</td>\n",
       "      <td>0.40349</td>\n",
       "      <td>0.913194</td>\n",
       "      <td>1</td>\n",
       "      <td>0</td>\n",
       "      <td>0</td>\n",
       "      <td>...</td>\n",
       "      <td>0</td>\n",
       "      <td>0</td>\n",
       "      <td>0</td>\n",
       "      <td>1</td>\n",
       "      <td>0</td>\n",
       "      <td>0</td>\n",
       "      <td>0</td>\n",
       "      <td>0</td>\n",
       "      <td>0</td>\n",
       "      <td>1</td>\n",
       "    </tr>\n",
       "    <tr>\n",
       "      <th>4</th>\n",
       "      <td>32229.38</td>\n",
       "      <td>False</td>\n",
       "      <td>0.283436</td>\n",
       "      <td>-1.301205</td>\n",
       "      <td>-1.56024</td>\n",
       "      <td>0.40349</td>\n",
       "      <td>0.913194</td>\n",
       "      <td>1</td>\n",
       "      <td>0</td>\n",
       "      <td>0</td>\n",
       "      <td>...</td>\n",
       "      <td>0</td>\n",
       "      <td>0</td>\n",
       "      <td>0</td>\n",
       "      <td>1</td>\n",
       "      <td>0</td>\n",
       "      <td>0</td>\n",
       "      <td>0</td>\n",
       "      <td>0</td>\n",
       "      <td>0</td>\n",
       "      <td>1</td>\n",
       "    </tr>\n",
       "  </tbody>\n",
       "</table>\n",
       "<p>5 rows × 127 columns</p>\n",
       "</div>"
      ],
      "text/plain": [
       "   Weekly_Sales  IsHoliday      Size  Temperature  Fuel_Price      CPI  \\\n",
       "0      24924.50      False  0.283436    -1.301205    -1.56024  0.40349   \n",
       "1      50605.27      False  0.283436    -1.301205    -1.56024  0.40349   \n",
       "2      13740.12      False  0.283436    -1.301205    -1.56024  0.40349   \n",
       "3      39954.04      False  0.283436    -1.301205    -1.56024  0.40349   \n",
       "4      32229.38      False  0.283436    -1.301205    -1.56024  0.40349   \n",
       "\n",
       "   Unemployment  Store_1  Store_10  Store_2          ...            \\\n",
       "0      0.913194        1         0        0          ...             \n",
       "1      0.913194        1         0        0          ...             \n",
       "2      0.913194        1         0        0          ...             \n",
       "3      0.913194        1         0        0          ...             \n",
       "4      0.913194        1         0        0          ...             \n",
       "\n",
       "   binned_markdown_4_41-60%  binned_markdown_4_61-80%  \\\n",
       "0                         0                         0   \n",
       "1                         0                         0   \n",
       "2                         0                         0   \n",
       "3                         0                         0   \n",
       "4                         0                         0   \n",
       "\n",
       "   binned_markdown_4_81-100%  binned_markdown_4_NaN  binned_markdown_5_0-20%  \\\n",
       "0                          0                      1                        0   \n",
       "1                          0                      1                        0   \n",
       "2                          0                      1                        0   \n",
       "3                          0                      1                        0   \n",
       "4                          0                      1                        0   \n",
       "\n",
       "   binned_markdown_5_21-40%  binned_markdown_5_41-60%  \\\n",
       "0                         0                         0   \n",
       "1                         0                         0   \n",
       "2                         0                         0   \n",
       "3                         0                         0   \n",
       "4                         0                         0   \n",
       "\n",
       "   binned_markdown_5_61-80%  binned_markdown_5_81-100%  binned_markdown_5_NaN  \n",
       "0                         0                          0                      1  \n",
       "1                         0                          0                      1  \n",
       "2                         0                          0                      1  \n",
       "3                         0                          0                      1  \n",
       "4                         0                          0                      1  \n",
       "\n",
       "[5 rows x 127 columns]"
      ]
     },
     "execution_count": 2,
     "metadata": {},
     "output_type": "execute_result"
    }
   ],
   "source": [
    "df = pd.read_csv(\"walmart_dataset_cleaned.csv\")\n",
    "df.head()"
   ]
  },
  {
   "cell_type": "markdown",
   "metadata": {},
   "source": [
    "Let's pull up the info."
   ]
  },
  {
   "cell_type": "code",
   "execution_count": 3,
   "metadata": {},
   "outputs": [
    {
     "name": "stdout",
     "output_type": "stream",
     "text": [
      "<class 'pandas.core.frame.DataFrame'>\n",
      "RangeIndex: 97839 entries, 0 to 97838\n",
      "Columns: 127 entries, Weekly_Sales to binned_markdown_5_NaN\n",
      "dtypes: bool(1), float64(6), int64(120)\n",
      "memory usage: 94.1 MB\n"
     ]
    }
   ],
   "source": [
    "df.info()"
   ]
  },
  {
   "cell_type": "markdown",
   "metadata": {},
   "source": [
    "Note that the output for info is much smaller compared to what we usually see. Because we have so many columns, pandas is intentionally not showing the data types for each column. Let's use `info()` again, but now just on the first 15 columns of the data."
   ]
  },
  {
   "cell_type": "code",
   "execution_count": 4,
   "metadata": {},
   "outputs": [
    {
     "name": "stdout",
     "output_type": "stream",
     "text": [
      "<class 'pandas.core.frame.DataFrame'>\n",
      "RangeIndex: 97839 entries, 0 to 97838\n",
      "Data columns (total 15 columns):\n",
      "Weekly_Sales    97839 non-null float64\n",
      "IsHoliday       97839 non-null bool\n",
      "Size            97839 non-null float64\n",
      "Temperature     97839 non-null float64\n",
      "Fuel_Price      97839 non-null float64\n",
      "CPI             97839 non-null float64\n",
      "Unemployment    97839 non-null float64\n",
      "Store_1         97839 non-null int64\n",
      "Store_10        97839 non-null int64\n",
      "Store_2         97839 non-null int64\n",
      "Store_3         97839 non-null int64\n",
      "Store_4         97839 non-null int64\n",
      "Store_5         97839 non-null int64\n",
      "Store_6         97839 non-null int64\n",
      "Store_7         97839 non-null int64\n",
      "dtypes: bool(1), float64(6), int64(8)\n",
      "memory usage: 10.5 MB\n"
     ]
    }
   ],
   "source": [
    "df.iloc[:,:15].info()"
   ]
  },
  {
   "cell_type": "markdown",
   "metadata": {},
   "source": [
    "Remember that all the columns from store_1 onwards are actually dummies, so categorical variables. Because we stored the data and loaded it in again, this information was lost. Let's make sure they become categorical again. You can write a for-loop to do this."
   ]
  },
  {
   "cell_type": "code",
   "execution_count": 5,
   "metadata": {},
   "outputs": [],
   "source": [
    "for i in df.iloc[:,7:].columns:\n",
    "    df[i] = df[i].astype('category')"
   ]
  },
  {
   "cell_type": "markdown",
   "metadata": {},
   "source": [
    "Let's make sure IsHoliday is a categorical variable as well."
   ]
  },
  {
   "cell_type": "code",
   "execution_count": 6,
   "metadata": {},
   "outputs": [],
   "source": [
    "df.IsHoliday = df.IsHoliday.astype(\"category\")"
   ]
  },
  {
   "cell_type": "markdown",
   "metadata": {},
   "source": [
    "Let's check the info again to make sure everything is OK now."
   ]
  },
  {
   "cell_type": "code",
   "execution_count": 7,
   "metadata": {},
   "outputs": [
    {
     "name": "stdout",
     "output_type": "stream",
     "text": [
      "<class 'pandas.core.frame.DataFrame'>\n",
      "RangeIndex: 97839 entries, 0 to 97838\n",
      "Data columns (total 20 columns):\n",
      "Weekly_Sales    97839 non-null float64\n",
      "IsHoliday       97839 non-null category\n",
      "Size            97839 non-null float64\n",
      "Temperature     97839 non-null float64\n",
      "Fuel_Price      97839 non-null float64\n",
      "CPI             97839 non-null float64\n",
      "Unemployment    97839 non-null float64\n",
      "Store_1         97839 non-null category\n",
      "Store_10        97839 non-null category\n",
      "Store_2         97839 non-null category\n",
      "Store_3         97839 non-null category\n",
      "Store_4         97839 non-null category\n",
      "Store_5         97839 non-null category\n",
      "Store_6         97839 non-null category\n",
      "Store_7         97839 non-null category\n",
      "Store_8         97839 non-null category\n",
      "Store_9         97839 non-null category\n",
      "Dept_1          97839 non-null category\n",
      "Dept_10         97839 non-null category\n",
      "Dept_11         97839 non-null category\n",
      "dtypes: category(14), float64(6)\n",
      "memory usage: 5.8 MB\n"
     ]
    }
   ],
   "source": [
    "df.iloc[:,:20].info()"
   ]
  },
  {
   "cell_type": "markdown",
   "metadata": {},
   "source": [
    "Great! you should see that the datatypes have changed to categories now! If you use `.describe` now, you should see only the remaining continuous variables in the data set."
   ]
  },
  {
   "cell_type": "code",
   "execution_count": 8,
   "metadata": {},
   "outputs": [
    {
     "data": {
      "text/html": [
       "<div>\n",
       "<style scoped>\n",
       "    .dataframe tbody tr th:only-of-type {\n",
       "        vertical-align: middle;\n",
       "    }\n",
       "\n",
       "    .dataframe tbody tr th {\n",
       "        vertical-align: top;\n",
       "    }\n",
       "\n",
       "    .dataframe thead th {\n",
       "        text-align: right;\n",
       "    }\n",
       "</style>\n",
       "<table border=\"1\" class=\"dataframe\">\n",
       "  <thead>\n",
       "    <tr style=\"text-align: right;\">\n",
       "      <th></th>\n",
       "      <th>Weekly_Sales</th>\n",
       "      <th>Size</th>\n",
       "      <th>Temperature</th>\n",
       "      <th>Fuel_Price</th>\n",
       "      <th>CPI</th>\n",
       "      <th>Unemployment</th>\n",
       "    </tr>\n",
       "  </thead>\n",
       "  <tbody>\n",
       "    <tr>\n",
       "      <th>count</th>\n",
       "      <td>97839.000000</td>\n",
       "      <td>9.783900e+04</td>\n",
       "      <td>9.783900e+04</td>\n",
       "      <td>9.783900e+04</td>\n",
       "      <td>9.783900e+04</td>\n",
       "      <td>9.783900e+04</td>\n",
       "    </tr>\n",
       "    <tr>\n",
       "      <th>mean</th>\n",
       "      <td>17223.235591</td>\n",
       "      <td>1.092260e-16</td>\n",
       "      <td>2.442107e-13</td>\n",
       "      <td>4.830299e-13</td>\n",
       "      <td>-1.535671e-14</td>\n",
       "      <td>1.793500e-12</td>\n",
       "    </tr>\n",
       "    <tr>\n",
       "      <th>std</th>\n",
       "      <td>25288.572553</td>\n",
       "      <td>1.000000e+00</td>\n",
       "      <td>1.000000e+00</td>\n",
       "      <td>1.000000e+00</td>\n",
       "      <td>1.000000e+00</td>\n",
       "      <td>1.000000e+00</td>\n",
       "    </tr>\n",
       "    <tr>\n",
       "      <th>min</th>\n",
       "      <td>-1098.000000</td>\n",
       "      <td>-1.611999e+00</td>\n",
       "      <td>-3.843452e+00</td>\n",
       "      <td>-1.691961e+00</td>\n",
       "      <td>-1.958762e+00</td>\n",
       "      <td>-2.776898e+00</td>\n",
       "    </tr>\n",
       "    <tr>\n",
       "      <th>25%</th>\n",
       "      <td>2336.485000</td>\n",
       "      <td>-1.028620e+00</td>\n",
       "      <td>-7.087592e-01</td>\n",
       "      <td>-1.053793e+00</td>\n",
       "      <td>-1.266966e-01</td>\n",
       "      <td>-6.503157e-01</td>\n",
       "    </tr>\n",
       "    <tr>\n",
       "      <th>50%</th>\n",
       "      <td>7658.280000</td>\n",
       "      <td>2.834360e-01</td>\n",
       "      <td>1.340726e-01</td>\n",
       "      <td>1.180741e-01</td>\n",
       "      <td>4.995210e-01</td>\n",
       "      <td>-4.621274e-02</td>\n",
       "    </tr>\n",
       "    <tr>\n",
       "      <th>75%</th>\n",
       "      <td>20851.275000</td>\n",
       "      <td>1.113495e+00</td>\n",
       "      <td>8.680410e-01</td>\n",
       "      <td>8.243739e-01</td>\n",
       "      <td>6.346144e-01</td>\n",
       "      <td>7.089160e-01</td>\n",
       "    </tr>\n",
       "    <tr>\n",
       "      <th>max</th>\n",
       "      <td>693099.360000</td>\n",
       "      <td>1.171380e+00</td>\n",
       "      <td>1.738375e+00</td>\n",
       "      <td>2.745691e+00</td>\n",
       "      <td>8.517705e-01</td>\n",
       "      <td>2.361469e+00</td>\n",
       "    </tr>\n",
       "  </tbody>\n",
       "</table>\n",
       "</div>"
      ],
      "text/plain": [
       "        Weekly_Sales          Size   Temperature    Fuel_Price           CPI  \\\n",
       "count   97839.000000  9.783900e+04  9.783900e+04  9.783900e+04  9.783900e+04   \n",
       "mean    17223.235591  1.092260e-16  2.442107e-13  4.830299e-13 -1.535671e-14   \n",
       "std     25288.572553  1.000000e+00  1.000000e+00  1.000000e+00  1.000000e+00   \n",
       "min     -1098.000000 -1.611999e+00 -3.843452e+00 -1.691961e+00 -1.958762e+00   \n",
       "25%      2336.485000 -1.028620e+00 -7.087592e-01 -1.053793e+00 -1.266966e-01   \n",
       "50%      7658.280000  2.834360e-01  1.340726e-01  1.180741e-01  4.995210e-01   \n",
       "75%     20851.275000  1.113495e+00  8.680410e-01  8.243739e-01  6.346144e-01   \n",
       "max    693099.360000  1.171380e+00  1.738375e+00  2.745691e+00  8.517705e-01   \n",
       "\n",
       "       Unemployment  \n",
       "count  9.783900e+04  \n",
       "mean   1.793500e-12  \n",
       "std    1.000000e+00  \n",
       "min   -2.776898e+00  \n",
       "25%   -6.503157e-01  \n",
       "50%   -4.621274e-02  \n",
       "75%    7.089160e-01  \n",
       "max    2.361469e+00  "
      ]
     },
     "execution_count": 8,
     "metadata": {},
     "output_type": "execute_result"
    }
   ],
   "source": [
    "df.describe()"
   ]
  },
  {
   "cell_type": "markdown",
   "metadata": {},
   "source": [
    "### Use a for-loop to look at some results for each linear regression model "
   ]
  },
  {
   "cell_type": "markdown",
   "metadata": {},
   "source": [
    "Let's use ordinary least squares in statsmodels at this stage.\n",
    "Import `statsmodels.formula.api` to get started"
   ]
  },
  {
   "cell_type": "code",
   "execution_count": 9,
   "metadata": {},
   "outputs": [],
   "source": [
    "import statsmodels.api as sm\n",
    "import statsmodels.formula.api as smf"
   ]
  },
  {
   "cell_type": "markdown",
   "metadata": {},
   "source": [
    "Create a loop that for each iteration:\n",
    "* Runs a simple OLS regression between (continuous) independent and dependent variables\n",
    "* Store following values in array for each iteration\n",
    "    * Target variable\n",
    "    * R_squared\n",
    "    * intercept\n",
    "    * slope\n",
    "    * p-value\n",
    "* Comment on each output "
   ]
  },
  {
   "cell_type": "code",
   "execution_count": 10,
   "metadata": {},
   "outputs": [
    {
     "data": {
      "text/plain": [
       "Index(['Size', 'Temperature', 'Fuel_Price', 'CPI', 'Unemployment'], dtype='object')"
      ]
     },
     "execution_count": 10,
     "metadata": {},
     "output_type": "execute_result"
    }
   ],
   "source": [
    "cont_var = df.describe().columns.drop(['Weekly_Sales'])\n",
    "cont_var"
   ]
  },
  {
   "cell_type": "code",
   "execution_count": 11,
   "metadata": {},
   "outputs": [
    {
     "name": "stdout",
     "output_type": "stream",
     "text": [
      "Weekly Sales =  7406.23 Size +  17223.24\n",
      "R-squared = 0.086    p-value =  0.0\n",
      "\n",
      "Weekly Sales =  805.48 Temperature +  17223.24\n",
      "R-squared = 0.001    p-value =  0.0\n",
      "\n",
      "Weekly Sales =  716.58 Fuel_Price +  17223.24\n",
      "R-squared = 0.001    p-value =  0.0\n",
      "\n",
      "Weekly Sales =  -5020.31 CPI +  17223.24\n",
      "R-squared = 0.039    p-value =  0.0\n",
      "\n",
      "Weekly Sales =  738.02 Unemployment +  17223.24\n",
      "R-squared = 0.001    p-value =  0.0\n",
      "\n"
     ]
    }
   ],
   "source": [
    "for index, value in enumerate(cont_var):\n",
    "    f='Weekly_Sales~' + value\n",
    "    model = smf.ols(formula=f, data=df).fit()\n",
    "    var_name = cont_var[index]\n",
    "    r_sq = model.rsquared\n",
    "    b = model.params[0]\n",
    "    m = model.params[1]\n",
    "    p_value = model.pvalues[1]\n",
    "    results=[var_name, r_sq, b, m, p_value]\n",
    "    print('Weekly Sales = ', round(m,2), var_name, '+ ', round(b,2))\n",
    "    print('R-squared =', round(r_sq,3), '  ', 'p-value = ', round(p_value, 3))\n",
    "    print('')"
   ]
  },
  {
   "cell_type": "code",
   "execution_count": 12,
   "metadata": {},
   "outputs": [],
   "source": [
    "#R-squared is small so not good predictors"
   ]
  },
  {
   "cell_type": "markdown",
   "metadata": {},
   "source": [
    "Think about your results. \n",
    "- What do the parameter estimates mean? Do they make sense? \n",
    "- What do the p-values tell us?\n",
    "- What does the R-squared tell us?"
   ]
  },
  {
   "cell_type": "markdown",
   "metadata": {},
   "source": [
    "## Our R-squared values are low, let's try to solve this\n",
    "\n",
    "Something we haven't considered before, is taking log-transformations to make certain data less skewed. Let's take a quick look at our summarizing histograms. "
   ]
  },
  {
   "cell_type": "code",
   "execution_count": 13,
   "metadata": {},
   "outputs": [
    {
     "data": {
      "image/png": "[encoded data removed]",
      "text/plain": [
       "<Figure size 576x576 with 6 Axes>"
      ]
     },
     "metadata": {
      "needs_background": "light"
     },
     "output_type": "display_data"
    }
   ],
   "source": [
    "df.hist(figsize=(8,8));"
   ]
  },
  {
   "cell_type": "markdown",
   "metadata": {},
   "source": [
    "Interestingly the most problematic variable in terms of skewness seems to be weekly sales itself. Does it make sense to log-transform this variable? It definitely doesn't hurt to try! Let's have a look below. what do you see?"
   ]
  },
  {
   "cell_type": "markdown",
   "metadata": {},
   "source": [
    "That's right, we have some negative `Weekly_Sales` values! Let's check how many we have."
   ]
  },
  {
   "cell_type": "code",
   "execution_count": 14,
   "metadata": {},
   "outputs": [
    {
     "data": {
      "text/plain": [
       "224"
      ]
     },
     "execution_count": 14,
     "metadata": {},
     "output_type": "execute_result"
    }
   ],
   "source": [
    "sum(df['Weekly_Sales']<=0)"
   ]
  },
  {
   "cell_type": "markdown",
   "metadata": {},
   "source": [
    "This seems negligibe considering we have almost 100,000 observations. Let's remove these 224 rows so we can take the log."
   ]
  },
  {
   "cell_type": "code",
   "execution_count": 15,
   "metadata": {},
   "outputs": [],
   "source": [
    "df_log= df[df[\"Weekly_Sales\"]>0]"
   ]
  },
  {
   "cell_type": "code",
   "execution_count": 16,
   "metadata": {},
   "outputs": [
    {
     "data": {
      "text/plain": [
       "0"
      ]
     },
     "execution_count": 16,
     "metadata": {},
     "output_type": "execute_result"
    }
   ],
   "source": [
    "sum(df_log['Weekly_Sales']<=0)"
   ]
  },
  {
   "cell_type": "code",
   "execution_count": 17,
   "metadata": {},
   "outputs": [
    {
     "name": "stderr",
     "output_type": "stream",
     "text": [
      "/Users/katiedave/anaconda3/envs/learn-env/lib/python3.6/site-packages/ipykernel_launcher.py:1: SettingWithCopyWarning: \n",
      "A value is trying to be set on a copy of a slice from a DataFrame.\n",
      "Try using .loc[row_indexer,col_indexer] = value instead\n",
      "\n",
      "See the caveats in the documentation: http://pandas.pydata.org/pandas-docs/stable/indexing.html#indexing-view-versus-copy\n",
      "  \"\"\"Entry point for launching an IPython kernel.\n"
     ]
    }
   ],
   "source": [
    "df_log[\"Weekly_Sales\"]= np.log(df_log[\"Weekly_Sales\"])"
   ]
  },
  {
   "cell_type": "code",
   "execution_count": 18,
   "metadata": {},
   "outputs": [
    {
     "data": {
      "text/plain": [
       "(0    10.123607\n",
       " 1    10.831811\n",
       " 2     9.528075\n",
       " 3    10.595485\n",
       " 4    10.380634\n",
       " Name: Weekly_Sales, dtype: float64, 0    24924.50\n",
       " 1    50605.27\n",
       " 2    13740.12\n",
       " 3    39954.04\n",
       " 4    32229.38\n",
       " Name: Weekly_Sales, dtype: float64)"
      ]
     },
     "execution_count": 18,
     "metadata": {},
     "output_type": "execute_result"
    }
   ],
   "source": [
    "df_log.Weekly_Sales.head(), df.Weekly_Sales.head()"
   ]
  },
  {
   "cell_type": "markdown",
   "metadata": {},
   "source": [
    "Let's have another look at the histogram. What do you see?"
   ]
  },
  {
   "cell_type": "code",
   "execution_count": 19,
   "metadata": {},
   "outputs": [
    {
     "data": {
      "image/png": "[encoded data removed]",
      "text/plain": [
       "<Figure size 432x288 with 1 Axes>"
      ]
     },
     "metadata": {
      "needs_background": "light"
     },
     "output_type": "display_data"
    }
   ],
   "source": [
    "df_log.Weekly_Sales.hist();"
   ]
  },
  {
   "cell_type": "markdown",
   "metadata": {},
   "source": [
    "Now let's repeat what we did before, yet now with the log(Weekly_Sales) as the target."
   ]
  },
  {
   "cell_type": "code",
   "execution_count": 20,
   "metadata": {},
   "outputs": [
    {
     "name": "stdout",
     "output_type": "stream",
     "text": [
      "Weekly Sales =  0.61 Size +  8.67\n",
      "R-squared = 0.108    p-value =  0.0\n",
      "\n",
      "Weekly Sales =  0.05 Temperature +  8.67\n",
      "R-squared = 0.001    p-value =  0.0\n",
      "\n",
      "Weekly Sales =  0.04 Fuel_Price +  8.67\n",
      "R-squared = 0.0    p-value =  0.0\n",
      "\n",
      "Weekly Sales =  -0.3 CPI +  8.67\n",
      "R-squared = 0.026    p-value =  0.0\n",
      "\n",
      "Weekly Sales =  0.03 Unemployment +  8.67\n",
      "R-squared = 0.0    p-value =  0.0\n",
      "\n"
     ]
    }
   ],
   "source": [
    "for index, value in enumerate(cont_var):\n",
    "    f='Weekly_Sales~' + value\n",
    "    model = smf.ols(formula=f, data=df_log).fit()\n",
    "    var_name = cont_var[index]\n",
    "    r_sq = model.rsquared\n",
    "    b = model.params[0]\n",
    "    m = model.params[1]\n",
    "    p_value = model.pvalues[1]\n",
    "    results=[var_name, r_sq, b, m, p_value]\n",
    "    print('Weekly Sales = ', round(m,2), var_name, '+ ', round(b,2))\n",
    "    print('R-squared =', round(r_sq,3), '  ', 'p-value = ', round(p_value, 3))\n",
    "    print('')"
   ]
  },
  {
   "cell_type": "code",
   "execution_count": 21,
   "metadata": {},
   "outputs": [],
   "source": [
    "#R-squared is lower for every variable so the first model would be better."
   ]
  },
  {
   "cell_type": "markdown",
   "metadata": {},
   "source": [
    "- compare and contract the results with the results obtained when we did not take the log(sales)\n",
    "- Which one would you want to proceed with based on this?"
   ]
  },
  {
   "cell_type": "markdown",
   "metadata": {},
   "source": [
    "## Build a model with each categorical variable as a predictor"
   ]
  },
  {
   "cell_type": "markdown",
   "metadata": {},
   "source": [
    "- Use it on the log-transformed, and the regular `Weekly_Sales`\n",
    "- put all categories for one categorical variable in 1 model, so we want 4 models.\n",
    "- remember that we have 4 categorical variables: `Store`,  `Dept`, `IsHoliday` and `Type`( we're for now ignoring the `binned_markdown` categories, you can add then later on as an extension)\n",
    "- IMPORTANT: remember that we made dummies for `Type`, `Dept` and `Store` columns. You'll need to drop 1 column for each of these if you want good results. The reason for this is that singularity will occur and . This is related to what we mentioned earlier on in section 11. Don't worry about the \"why\" for now, just make sure to drop 1 column and you should be fine! The parameter value for the dropper \"base category\" will be absorbed in the intercept."
   ]
  },
  {
   "cell_type": "code",
   "execution_count": 22,
   "metadata": {},
   "outputs": [
    {
     "data": {
      "text/html": [
       "<div>\n",
       "<style scoped>\n",
       "    .dataframe tbody tr th:only-of-type {\n",
       "        vertical-align: middle;\n",
       "    }\n",
       "\n",
       "    .dataframe tbody tr th {\n",
       "        vertical-align: top;\n",
       "    }\n",
       "\n",
       "    .dataframe thead th {\n",
       "        text-align: right;\n",
       "    }\n",
       "</style>\n",
       "<table border=\"1\" class=\"dataframe\">\n",
       "  <thead>\n",
       "    <tr style=\"text-align: right;\">\n",
       "      <th></th>\n",
       "      <th>Type_A</th>\n",
       "      <th>Type_B</th>\n",
       "    </tr>\n",
       "  </thead>\n",
       "  <tbody>\n",
       "    <tr>\n",
       "      <th>0</th>\n",
       "      <td>1</td>\n",
       "      <td>0</td>\n",
       "    </tr>\n",
       "  </tbody>\n",
       "</table>\n",
       "</div>"
      ],
      "text/plain": [
       "  Type_A Type_B\n",
       "0      1      0"
      ]
     },
     "execution_count": 22,
     "metadata": {},
     "output_type": "execute_result"
    }
   ],
   "source": [
    "df.iloc[:1,96:98]"
   ]
  },
  {
   "cell_type": "code",
   "execution_count": 23,
   "metadata": {},
   "outputs": [
    {
     "name": "stdout",
     "output_type": "stream",
     "text": [
      "                            OLS Regression Results                            \n",
      "==============================================================================\n",
      "Dep. Variable:           Weekly_Sales   R-squared:                       0.123\n",
      "Model:                            OLS   Adj. R-squared:                  0.123\n",
      "Method:                 Least Squares   F-statistic:                     1519.\n",
      "Date:                Sat, 10 Nov 2018   Prob (F-statistic):               0.00\n",
      "Time:                        21:38:08   Log-Likelihood:            -1.1243e+06\n",
      "No. Observations:               97839   AIC:                         2.249e+06\n",
      "Df Residuals:                   97829   BIC:                         2.249e+06\n",
      "Df Model:                           9                                         \n",
      "Covariance Type:            nonrobust                                         \n",
      "=================================================================================\n",
      "                    coef    std err          t      P>|t|      [0.025      0.975]\n",
      "---------------------------------------------------------------------------------\n",
      "Intercept      8772.8904    251.567     34.873      0.000    8279.823    9265.958\n",
      "Store_1[T.1]   1.294e+04    343.605     37.653      0.000    1.23e+04    1.36e+04\n",
      "Store_10[T.1]  1.756e+04    343.056     51.185      0.000    1.69e+04    1.82e+04\n",
      "Store_2[T.1]   1.813e+04    343.652     52.743      0.000    1.75e+04    1.88e+04\n",
      "Store_3[T.1]  -2399.8564    354.101     -6.777      0.000   -3093.891   -1705.822\n",
      "Store_4[T.1]   2.039e+04    343.388     59.374      0.000    1.97e+04    2.11e+04\n",
      "Store_5[T.1]  -3719.4746    354.462    -10.493      0.000   -4414.216   -3024.734\n",
      "Store_6[T.1]   1.314e+04    343.863     38.214      0.000    1.25e+04    1.38e+04\n",
      "Store_7[T.1]   -414.1242    347.519     -1.192      0.233   -1095.257     267.009\n",
      "Store_8[T.1]   4360.1244    346.405     12.587      0.000    3681.174    5039.075\n",
      "==============================================================================\n",
      "Omnibus:                    71899.334   Durbin-Watson:                   1.297\n",
      "Prob(Omnibus):                  0.000   Jarque-Bera (JB):          2578164.480\n",
      "Skew:                           3.158   Prob(JB):                         0.00\n",
      "Kurtosis:                      27.342   Cond. No.                         11.4\n",
      "==============================================================================\n",
      "\n",
      "Warnings:\n",
      "[1] Standard Errors assume that the covariance matrix of the errors is correctly specified.\n",
      "                            OLS Regression Results                            \n",
      "==============================================================================\n",
      "Dep. Variable:           Weekly_Sales   R-squared:                       0.503\n",
      "Model:                            OLS   Adj. R-squared:                  0.503\n",
      "Method:                 Least Squares   F-statistic:                     1269.\n",
      "Date:                Sat, 10 Nov 2018   Prob (F-statistic):               0.00\n",
      "Time:                        21:38:09   Log-Likelihood:            -1.0965e+06\n",
      "No. Observations:               97839   AIC:                         2.193e+06\n",
      "Df Residuals:                   97760   BIC:                         2.194e+06\n",
      "Df Model:                          78                                         \n",
      "Covariance Type:            nonrobust                                         \n",
      "================================================================================\n",
      "                   coef    std err          t      P>|t|      [0.025      0.975]\n",
      "--------------------------------------------------------------------------------\n",
      "Intercept      423.7693   1270.654      0.334      0.739   -2066.698    2914.236\n",
      "Dept_1[T.1]   2.031e+04   1355.355     14.986      0.000    1.77e+04     2.3e+04\n",
      "Dept_10[T.1]  2.737e+04   1355.355     20.196      0.000    2.47e+04       3e+04\n",
      "Dept_11[T.1]  1.909e+04   1355.355     14.083      0.000    1.64e+04    2.17e+04\n",
      "Dept_12[T.1]  6230.4916   1355.355      4.597      0.000    3574.012    8886.971\n",
      "Dept_13[T.1]  3.356e+04   1355.355     24.763      0.000    3.09e+04    3.62e+04\n",
      "Dept_14[T.1]  1.631e+04   1355.355     12.035      0.000    1.37e+04     1.9e+04\n",
      "Dept_16[T.1]  1.846e+04   1355.355     13.617      0.000    1.58e+04    2.11e+04\n",
      "Dept_17[T.1]  1.011e+04   1355.355      7.460      0.000    7454.922    1.28e+04\n",
      "Dept_18[T.1]  7901.0587   1379.372      5.728      0.000    5197.506    1.06e+04\n",
      "Dept_19[T.1]  1567.0310   1366.897      1.146      0.252   -1112.071    4246.133\n",
      "Dept_2[T.1]   4.739e+04   1355.355     34.968      0.000    4.47e+04    5.01e+04\n",
      "Dept_20[T.1]  5171.2095   1355.355      3.815      0.000    2514.730    7827.689\n",
      "Dept_21[T.1]  5417.0979   1355.355      3.997      0.000    2760.618    8073.578\n",
      "Dept_22[T.1]  1.029e+04   1355.355      7.593      0.000    7634.078    1.29e+04\n",
      "Dept_23[T.1]  2.459e+04   1355.355     18.146      0.000    2.19e+04    2.73e+04\n",
      "Dept_24[T.1]  5680.9937   1355.355      4.192      0.000    3024.514    8337.473\n",
      "Dept_25[T.1]  9594.6328   1355.355      7.079      0.000    6938.153    1.23e+04\n",
      "Dept_26[T.1]  7337.3558   1355.355      5.414      0.000    4680.876    9993.836\n",
      "Dept_27[T.1]  1086.3982   1355.355      0.802      0.423   -1570.082    3742.878\n",
      "Dept_28[T.1]   110.0078   1355.355      0.081      0.935   -2546.472    2766.488\n",
      "Dept_29[T.1]  4861.8289   1355.355      3.587      0.000    2205.349    7518.309\n",
      "Dept_3[T.1]   1.307e+04   1355.355      9.645      0.000    1.04e+04    1.57e+04\n",
      "Dept_30[T.1]  3549.3742   1355.355      2.619      0.009     892.894    6205.854\n",
      "Dept_31[T.1]  2108.9331   1355.355      1.556      0.120    -547.547    4765.413\n",
      "Dept_32[T.1]  8473.6476   1355.355      6.252      0.000    5817.168    1.11e+04\n",
      "Dept_33[T.1]  5841.9874   1355.355      4.310      0.000    3185.508    8498.467\n",
      "Dept_34[T.1]  1.388e+04   1355.355     10.243      0.000    1.12e+04    1.65e+04\n",
      "Dept_35[T.1]  2502.9555   1355.355      1.847      0.065    -153.524    5159.435\n",
      "Dept_36[T.1]  1487.4397   1355.412      1.097      0.272   -1169.153    4144.032\n",
      "Dept_37[T.1]  3101.2589   1408.996      2.201      0.028     339.643    5862.875\n",
      "Dept_38[T.1]  7.396e+04   1355.355     54.571      0.000    7.13e+04    7.66e+04\n",
      "Dept_39[T.1]  -421.5853   8076.403     -0.052      0.958   -1.63e+04    1.54e+04\n",
      "Dept_4[T.1]   2.892e+04   1355.355     21.338      0.000    2.63e+04    3.16e+04\n",
      "Dept_40[T.1]  5.132e+04   1355.355     37.865      0.000    4.87e+04     5.4e+04\n",
      "Dept_41[T.1]  1884.4462   1355.355      1.390      0.164    -772.034    4540.926\n",
      "Dept_42[T.1]  6517.9654   1355.355      4.809      0.000    3861.486    9174.445\n",
      "Dept_44[T.1]  4402.3272   1355.355      3.248      0.001    1745.847    7058.807\n",
      "Dept_45[T.1]  -398.7865   1488.565     -0.268      0.789   -3316.356    2518.783\n",
      "Dept_46[T.1]  2.182e+04   1355.355     16.103      0.000    1.92e+04    2.45e+04\n",
      "Dept_47[T.1]  -446.0262   1849.803     -0.241      0.809   -4071.617    3179.565\n",
      "Dept_48[T.1]  1197.6152   1412.133      0.848      0.396   -1570.148    3965.378\n",
      "Dept_49[T.1]  8384.9021   1378.527      6.083      0.000    5683.005    1.11e+04\n",
      "Dept_5[T.1]   2.605e+04   1355.355     19.217      0.000    2.34e+04    2.87e+04\n",
      "Dept_50[T.1]  3833.8910   1959.290      1.957      0.050      -6.295    7674.076\n",
      "Dept_51[T.1]  -403.9200   1783.648     -0.226      0.821   -3899.850    3092.010\n",
      "Dept_52[T.1]  2176.8167   1355.355      1.606      0.108    -479.663    4833.296\n",
      "Dept_54[T.1]  -319.3397   1366.971     -0.234      0.815   -2998.587    2359.908\n",
      "Dept_55[T.1]  1.102e+04   1355.355      8.132      0.000    8364.924    1.37e+04\n",
      "Dept_56[T.1]  3660.4750   1355.470      2.701      0.007    1003.770    6317.180\n",
      "Dept_58[T.1]  5198.1371   1383.191      3.758      0.000    2487.099    7909.175\n",
      "Dept_59[T.1]   443.0442   1362.310      0.325      0.745   -2227.067    3113.156\n",
      "Dept_6[T.1]   4913.1605   1355.355      3.625      0.000    2256.681    7569.640\n",
      "Dept_60[T.1]   -87.7371   1363.329     -0.064      0.949   -2759.846    2584.372\n",
      "Dept_67[T.1]  7068.8597   1355.355      5.216      0.000    4412.380    9725.340\n",
      "Dept_7[T.1]   2.662e+04   1355.355     19.642      0.000     2.4e+04    2.93e+04\n",
      "Dept_71[T.1]  3997.6752   1355.355      2.950      0.003    1341.195    6654.155\n",
      "Dept_72[T.1]  5.894e+04   1355.355     43.489      0.000    5.63e+04    6.16e+04\n",
      "Dept_74[T.1]  1.419e+04   1355.355     10.473      0.000    1.15e+04    1.69e+04\n",
      "Dept_77[T.1]    67.4900   3547.174      0.019      0.985   -6884.930    7019.910\n",
      "Dept_78[T.1]  -416.0115   2739.475     -0.152      0.879   -5785.350    4953.326\n",
      "Dept_79[T.1]  2.286e+04   1355.355     16.868      0.000    2.02e+04    2.55e+04\n",
      "Dept_8[T.1]   3.713e+04   1355.355     27.398      0.000    3.45e+04    3.98e+04\n",
      "Dept_80[T.1]  1.153e+04   1386.639      8.314      0.000    8810.613    1.42e+04\n",
      "Dept_81[T.1]  1.391e+04   1355.355     10.263      0.000    1.13e+04    1.66e+04\n",
      "Dept_82[T.1]   1.59e+04   1355.355     11.734      0.000    1.32e+04    1.86e+04\n",
      "Dept_83[T.1]  3595.9717   1390.305      2.586      0.010     870.990    6320.953\n",
      "Dept_85[T.1]  1853.0516   1355.355      1.367      0.172    -803.428    4509.531\n",
      "Dept_87[T.1]  2.024e+04   1355.355     14.935      0.000    1.76e+04    2.29e+04\n",
      "Dept_9[T.1]    2.77e+04   1355.355     20.440      0.000     2.5e+04    3.04e+04\n",
      "Dept_90[T.1]  3.938e+04   1355.355     29.057      0.000    3.67e+04     4.2e+04\n",
      "Dept_91[T.1]  3.096e+04   1355.355     22.840      0.000    2.83e+04    3.36e+04\n",
      "Dept_92[T.1]  7.213e+04   1355.355     53.222      0.000    6.95e+04    7.48e+04\n",
      "Dept_93[T.1]  3.974e+04   1389.848     28.594      0.000     3.7e+04    4.25e+04\n",
      "Dept_94[T.1]  3.367e+04   1376.696     24.456      0.000     3.1e+04    3.64e+04\n",
      "Dept_95[T.1]  7.317e+04   1355.355     53.988      0.000    7.05e+04    7.58e+04\n",
      "Dept_96[T.1]  1.729e+04   1365.726     12.661      0.000    1.46e+04       2e+04\n",
      "Dept_97[T.1]  1.789e+04   1365.151     13.102      0.000    1.52e+04    2.06e+04\n",
      "Dept_98[T.1]  7545.9584   1385.890      5.445      0.000    4829.630    1.03e+04\n",
      "==============================================================================\n",
      "Omnibus:                    71368.627   Durbin-Watson:                   0.888\n",
      "Prob(Omnibus):                  0.000   Jarque-Bera (JB):          8933238.469\n",
      "Skew:                           2.697   Prob(JB):                         0.00\n",
      "Kurtosis:                      49.500   Cond. No.                         201.\n",
      "==============================================================================\n",
      "\n",
      "Warnings:\n",
      "[1] Standard Errors assume that the covariance matrix of the errors is correctly specified.\n",
      "                            OLS Regression Results                            \n",
      "==============================================================================\n",
      "Dep. Variable:           Weekly_Sales   R-squared:                       0.000\n",
      "Model:                            OLS   Adj. R-squared:                  0.000\n",
      "Method:                 Least Squares   F-statistic:                     21.05\n",
      "Date:                Sat, 10 Nov 2018   Prob (F-statistic):           4.47e-06\n",
      "Time:                        21:38:09   Log-Likelihood:            -1.1307e+06\n",
      "No. Observations:               97839   AIC:                         2.261e+06\n",
      "Df Residuals:                   97837   BIC:                         2.261e+06\n",
      "Df Model:                           1                                         \n",
      "Covariance Type:            nonrobust                                         \n",
      "=====================================================================================\n",
      "                        coef    std err          t      P>|t|      [0.025      0.975]\n",
      "-------------------------------------------------------------------------------------\n",
      "Intercept          1.712e+04     83.851    204.184      0.000     1.7e+04    1.73e+04\n",
      "IsHoliday[T.True]  1448.6105    315.703      4.589      0.000     829.837    2067.384\n",
      "==============================================================================\n",
      "Omnibus:                    72236.950   Durbin-Watson:                   1.138\n",
      "Prob(Omnibus):                  0.000   Jarque-Bera (JB):          2092730.538\n",
      "Skew:                           3.265   Prob(JB):                         0.00\n",
      "Kurtosis:                      24.696   Cond. No.                         3.93\n",
      "==============================================================================\n",
      "\n",
      "Warnings:\n",
      "[1] Standard Errors assume that the covariance matrix of the errors is correctly specified.\n",
      "                            OLS Regression Results                            \n",
      "==============================================================================\n",
      "Dep. Variable:           Weekly_Sales   R-squared:                       0.050\n",
      "Model:                            OLS   Adj. R-squared:                  0.050\n",
      "Method:                 Least Squares   F-statistic:                     5097.\n",
      "Date:                Sat, 10 Nov 2018   Prob (F-statistic):               0.00\n",
      "Time:                        21:38:09   Log-Likelihood:            -1.1282e+06\n",
      "No. Observations:               97839   AIC:                         2.256e+06\n",
      "Df Residuals:                   97837   BIC:                         2.257e+06\n",
      "Df Model:                           1                                         \n",
      "Covariance Type:            nonrobust                                         \n",
      "===============================================================================\n",
      "                  coef    std err          t      P>|t|      [0.025      0.975]\n",
      "-------------------------------------------------------------------------------\n",
      "Intercept    1.137e+04    113.749     99.941      0.000    1.11e+04    1.16e+04\n",
      "Type_A[T.1]  1.126e+04    157.767     71.392      0.000     1.1e+04    1.16e+04\n",
      "==============================================================================\n",
      "Omnibus:                    73545.565   Durbin-Watson:                   1.197\n",
      "Prob(Omnibus):                  0.000   Jarque-Bera (JB):          2462495.982\n",
      "Skew:                           3.299   Prob(JB):                         0.00\n",
      "Kurtosis:                      26.675   Cond. No.                         2.67\n",
      "==============================================================================\n",
      "\n",
      "Warnings:\n",
      "[1] Standard Errors assume that the covariance matrix of the errors is correctly specified.\n"
     ]
    }
   ],
   "source": [
    "cols_store = df.columns[7:16]\n",
    "cols_dept = df.columns[17:95]\n",
    "cols_is_holiday = df.columns[1:2]\n",
    "cols_type = df.columns[96:97]\n",
    "\n",
    "cols = [cols_store, cols_dept , cols_is_holiday, cols_type]\n",
    "for col in cols:\n",
    "    sum_cols = \"+\".join(col)\n",
    "    form = \"Weekly_Sales ~\" + sum_cols\n",
    "    model = smf.ols(formula= form, data= df).fit()\n",
    "    print(model.summary())"
   ]
  },
  {
   "cell_type": "code",
   "execution_count": 24,
   "metadata": {},
   "outputs": [
    {
     "name": "stdout",
     "output_type": "stream",
     "text": [
      "Store_1+Store_10+Store_2+Store_3+Store_4+Store_5+Store_6+Store_7+Store_8\n",
      "                            OLS Regression Results                            \n",
      "==============================================================================\n",
      "Dep. Variable:           Weekly_Sales   R-squared:                       0.128\n",
      "Model:                            OLS   Adj. R-squared:                  0.128\n",
      "Method:                 Least Squares   F-statistic:                     1591.\n",
      "Date:                Sat, 10 Nov 2018   Prob (F-statistic):               0.00\n",
      "Time:                        21:38:09   Log-Likelihood:            -1.9258e+05\n",
      "No. Observations:               97615   AIC:                         3.852e+05\n",
      "Df Residuals:                   97605   BIC:                         3.853e+05\n",
      "Df Model:                           9                                         \n",
      "Covariance Type:            nonrobust                                         \n",
      "=================================================================================\n",
      "                    coef    std err          t      P>|t|      [0.025      0.975]\n",
      "---------------------------------------------------------------------------------\n",
      "Intercept         8.1670      0.019    441.138      0.000       8.131       8.203\n",
      "Store_1[T.1]      0.8717      0.025     34.489      0.000       0.822       0.921\n",
      "Store_10[T.1]     1.0649      0.025     42.165      0.000       1.015       1.114\n",
      "Store_2[T.1]      1.1722      0.025     46.365      0.000       1.123       1.222\n",
      "Store_3[T.1]     -0.4928      0.026    -18.923      0.000      -0.544      -0.442\n",
      "Store_4[T.1]      1.2261      0.025     48.556      0.000       1.177       1.276\n",
      "Store_5[T.1]     -0.5693      0.026    -21.833      0.000      -0.620      -0.518\n",
      "Store_6[T.1]      1.0678      0.025     42.213      0.000       1.018       1.117\n",
      "Store_7[T.1]     -0.1389      0.026     -5.431      0.000      -0.189      -0.089\n",
      "Store_8[T.1]      0.4945      0.025     19.411      0.000       0.445       0.544\n",
      "==============================================================================\n",
      "Omnibus:                    28899.366   Durbin-Watson:                   1.536\n",
      "Prob(Omnibus):                  0.000   Jarque-Bera (JB):           101987.299\n",
      "Skew:                          -1.476   Prob(JB):                         0.00\n",
      "Kurtosis:                       7.045   Cond. No.                         11.4\n",
      "==============================================================================\n",
      "\n",
      "Warnings:\n",
      "[1] Standard Errors assume that the covariance matrix of the errors is correctly specified.\n",
      "Dept_1+Dept_10+Dept_11+Dept_12+Dept_13+Dept_14+Dept_16+Dept_17+Dept_18+Dept_19+Dept_2+Dept_20+Dept_21+Dept_22+Dept_23+Dept_24+Dept_25+Dept_26+Dept_27+Dept_28+Dept_29+Dept_3+Dept_30+Dept_31+Dept_32+Dept_33+Dept_34+Dept_35+Dept_36+Dept_37+Dept_38+Dept_39+Dept_4+Dept_40+Dept_41+Dept_42+Dept_44+Dept_45+Dept_46+Dept_47+Dept_48+Dept_49+Dept_5+Dept_50+Dept_51+Dept_52+Dept_54+Dept_55+Dept_56+Dept_58+Dept_59+Dept_6+Dept_60+Dept_67+Dept_7+Dept_71+Dept_72+Dept_74+Dept_77+Dept_78+Dept_79+Dept_8+Dept_80+Dept_81+Dept_82+Dept_83+Dept_85+Dept_87+Dept_9+Dept_90+Dept_91+Dept_92+Dept_93+Dept_94+Dept_95+Dept_96+Dept_97+Dept_98\n",
      "                            OLS Regression Results                            \n",
      "==============================================================================\n",
      "Dep. Variable:           Weekly_Sales   R-squared:                       0.624\n",
      "Model:                            OLS   Adj. R-squared:                  0.624\n",
      "Method:                 Least Squares   F-statistic:                     2074.\n",
      "Date:                Sat, 10 Nov 2018   Prob (F-statistic):               0.00\n",
      "Time:                        21:38:10   Log-Likelihood:            -1.5153e+05\n",
      "No. Observations:               97615   AIC:                         3.032e+05\n",
      "Df Residuals:                   97536   BIC:                         3.040e+05\n",
      "Df Model:                          78                                         \n",
      "Covariance Type:            nonrobust                                         \n",
      "================================================================================\n",
      "                   coef    std err          t      P>|t|      [0.025      0.975]\n",
      "--------------------------------------------------------------------------------\n",
      "Intercept        3.5250      0.082     42.947      0.000       3.364       3.686\n",
      "Dept_1[T.1]      6.1872      0.087     70.738      0.000       6.016       6.359\n",
      "Dept_10[T.1]     6.5483      0.087     74.867      0.000       6.377       6.720\n",
      "Dept_11[T.1]     6.2272      0.087     71.195      0.000       6.056       6.399\n",
      "Dept_12[T.1]     5.1626      0.087     59.024      0.000       4.991       5.334\n",
      "Dept_13[T.1]     6.7177      0.087     76.803      0.000       6.546       6.889\n",
      "Dept_14[T.1]     5.9002      0.087     67.457      0.000       5.729       6.072\n",
      "Dept_16[T.1]     5.9452      0.087     67.971      0.000       5.774       6.117\n",
      "Dept_17[T.1]     5.4518      0.087     62.330      0.000       5.280       5.623\n",
      "Dept_18[T.1]     3.2716      0.089     36.700      0.000       3.097       3.446\n",
      "Dept_19[T.1]     3.6106      0.088     40.925      0.000       3.438       3.784\n",
      "Dept_2[T.1]      7.0202      0.087     80.261      0.000       6.849       7.192\n",
      "Dept_20[T.1]     4.8027      0.087     54.909      0.000       4.631       4.974\n",
      "Dept_21[T.1]     4.8653      0.087     55.625      0.000       4.694       5.037\n",
      "Dept_22[T.1]     5.4612      0.087     62.438      0.000       5.290       5.633\n",
      "Dept_23[T.1]     6.3335      0.087     72.411      0.000       6.162       6.505\n",
      "Dept_24[T.1]     4.8686      0.087     55.663      0.000       4.697       5.040\n",
      "Dept_25[T.1]     5.4723      0.087     62.565      0.000       5.301       5.644\n",
      "Dept_26[T.1]     5.1058      0.087     58.374      0.000       4.934       5.277\n",
      "Dept_27[T.1]     3.4421      0.087     39.353      0.000       3.271       3.613\n",
      "Dept_28[T.1]     2.4321      0.087     27.806      0.000       2.261       2.604\n",
      "Dept_29[T.1]     4.6629      0.087     53.311      0.000       4.491       4.834\n",
      "Dept_3[T.1]      5.6884      0.087     65.035      0.000       5.517       5.860\n",
      "Dept_30[T.1]     4.3979      0.087     50.281      0.000       4.226       4.569\n",
      "Dept_31[T.1]     3.9783      0.087     45.483      0.000       3.807       4.150\n",
      "Dept_32[T.1]     5.2895      0.087     60.472      0.000       5.118       5.461\n",
      "Dept_33[T.1]     4.9206      0.087     56.257      0.000       4.749       5.092\n",
      "Dept_34[T.1]     5.7016      0.087     65.186      0.000       5.530       5.873\n",
      "Dept_35[T.1]     4.1091      0.087     46.977      0.000       3.938       4.281\n",
      "Dept_36[T.1]     3.4955      0.087     39.956      0.000       3.324       3.667\n",
      "Dept_37[T.1]     4.6055      0.091     50.675      0.000       4.427       4.784\n",
      "Dept_38[T.1]     7.6361      0.087     87.303      0.000       7.465       7.808\n",
      "Dept_39[T.1]    -3.1953      0.518     -6.171      0.000      -4.210      -2.180\n",
      "Dept_4[T.1]      6.5681      0.087     75.093      0.000       6.397       6.740\n",
      "Dept_40[T.1]     7.1694      0.087     81.967      0.000       6.998       7.341\n",
      "Dept_41[T.1]     3.5359      0.087     40.425      0.000       3.364       3.707\n",
      "Dept_42[T.1]     5.2128      0.087     59.598      0.000       5.041       5.384\n",
      "Dept_44[T.1]     4.7871      0.087     54.730      0.000       4.616       4.958\n",
      "Dept_45[T.1]    -0.6790      0.096     -7.066      0.000      -0.867      -0.491\n",
      "Dept_46[T.1]     6.2029      0.087     70.918      0.000       6.031       6.374\n",
      "Dept_47[T.1]     0.6717      0.140      4.804      0.000       0.398       0.946\n",
      "Dept_48[T.1]     3.5379      0.091     38.834      0.000       3.359       3.716\n",
      "Dept_49[T.1]     4.2582      0.089     47.864      0.000       4.084       4.433\n",
      "Dept_5[T.1]      6.4041      0.087     73.218      0.000       6.233       6.576\n",
      "Dept_50[T.1]     4.8240      0.126     38.286      0.000       4.577       5.071\n",
      "Dept_51[T.1]    -1.4362      0.115    -12.497      0.000      -1.661      -1.211\n",
      "Dept_52[T.1]     4.0841      0.087     46.693      0.000       3.913       4.256\n",
      "Dept_54[T.1]     0.5819      0.088      6.586      0.000       0.409       0.755\n",
      "Dept_55[T.1]     5.6058      0.087     64.091      0.000       5.434       5.777\n",
      "Dept_56[T.1]     3.9199      0.087     44.810      0.000       3.748       4.091\n",
      "Dept_58[T.1]     4.4686      0.089     50.075      0.000       4.294       4.644\n",
      "Dept_59[T.1]     2.0382      0.088     23.157      0.000       1.866       2.211\n",
      "Dept_6[T.1]      4.7478      0.087     54.277      0.000       4.576       4.919\n",
      "Dept_60[T.1]     1.9082      0.088     21.688      0.000       1.736       2.081\n",
      "Dept_67[T.1]     5.1331      0.087     58.687      0.000       4.962       5.305\n",
      "Dept_7[T.1]      6.3196      0.087     72.252      0.000       6.148       6.491\n",
      "Dept_71[T.1]     4.3701      0.087     49.963      0.000       4.199       4.542\n",
      "Dept_72[T.1]     7.1710      0.087     81.986      0.000       7.000       7.342\n",
      "Dept_74[T.1]     5.7770      0.087     66.048      0.000       5.606       5.948\n",
      "Dept_77[T.1]     2.3249      0.239      9.738      0.000       1.857       2.793\n",
      "Dept_78[T.1]    -1.4447      0.191     -7.568      0.000      -1.819      -1.071\n",
      "Dept_79[T.1]     6.2467      0.087     71.418      0.000       6.075       6.418\n",
      "Dept_8[T.1]      6.7632      0.087     77.324      0.000       6.592       6.935\n",
      "Dept_80[T.1]     4.7921      0.089     53.555      0.000       4.617       4.967\n",
      "Dept_81[T.1]     5.5694      0.087     63.674      0.000       5.398       5.741\n",
      "Dept_82[T.1]     5.9775      0.087     68.341      0.000       5.806       6.149\n",
      "Dept_83[T.1]     4.2251      0.090     47.107      0.000       4.049       4.401\n",
      "Dept_85[T.1]     4.0244      0.087     46.011      0.000       3.853       4.196\n",
      "Dept_87[T.1]     6.0459      0.087     69.123      0.000       5.875       6.217\n",
      "Dept_9[T.1]      6.4500      0.087     73.742      0.000       6.279       6.621\n",
      "Dept_90[T.1]     6.2765      0.087     71.758      0.000       6.105       6.448\n",
      "Dept_91[T.1]     5.7453      0.087     65.685      0.000       5.574       5.917\n",
      "Dept_92[T.1]     7.1416      0.087     81.649      0.000       6.970       7.313\n",
      "Dept_93[T.1]     6.2598      0.090     69.815      0.000       6.084       6.436\n",
      "Dept_94[T.1]     5.0519      0.089     56.819      0.000       4.878       5.226\n",
      "Dept_95[T.1]     7.4049      0.087     84.660      0.000       7.234       7.576\n",
      "Dept_96[T.1]     5.6446      0.088     64.051      0.000       5.472       5.817\n",
      "Dept_97[T.1]     5.4253      0.088     61.585      0.000       5.253       5.598\n",
      "Dept_98[T.1]     4.2413      0.089     47.411      0.000       4.066       4.417\n",
      "==============================================================================\n",
      "Omnibus:                    33292.658   Durbin-Watson:                   0.998\n",
      "Prob(Omnibus):                  0.000   Jarque-Bera (JB):           249099.253\n",
      "Skew:                          -1.444   Prob(JB):                         0.00\n",
      "Kurtosis:                      10.274   Cond. No.                         202.\n",
      "==============================================================================\n",
      "\n",
      "Warnings:\n",
      "[1] Standard Errors assume that the covariance matrix of the errors is correctly specified.\n",
      "IsHoliday\n",
      "                            OLS Regression Results                            \n",
      "==============================================================================\n",
      "Dep. Variable:           Weekly_Sales   R-squared:                       0.000\n",
      "Model:                            OLS   Adj. R-squared:                  0.000\n",
      "Method:                 Least Squares   F-statistic:                     9.748\n",
      "Date:                Sat, 10 Nov 2018   Prob (F-statistic):            0.00180\n",
      "Time:                        21:38:10   Log-Likelihood:            -1.9925e+05\n",
      "No. Observations:               97615   AIC:                         3.985e+05\n",
      "Df Residuals:                   97613   BIC:                         3.985e+05\n",
      "Df Model:                           1                                         \n",
      "Covariance Type:            nonrobust                                         \n",
      "=====================================================================================\n",
      "                        coef    std err          t      P>|t|      [0.025      0.975]\n",
      "-------------------------------------------------------------------------------------\n",
      "Intercept             8.6665      0.006   1401.125      0.000       8.654       8.679\n",
      "IsHoliday[T.True]     0.0727      0.023      3.122      0.002       0.027       0.118\n",
      "==============================================================================\n",
      "Omnibus:                    21883.886   Durbin-Watson:                   1.340\n",
      "Prob(Omnibus):                  0.000   Jarque-Bera (JB):            56621.948\n",
      "Skew:                          -1.220   Prob(JB):                         0.00\n",
      "Kurtosis:                       5.822   Cond. No.                         3.93\n",
      "==============================================================================\n",
      "\n",
      "Warnings:\n",
      "[1] Standard Errors assume that the covariance matrix of the errors is correctly specified.\n",
      "Type_A\n",
      "                            OLS Regression Results                            \n",
      "==============================================================================\n",
      "Dep. Variable:           Weekly_Sales   R-squared:                       0.068\n",
      "Model:                            OLS   Adj. R-squared:                  0.068\n",
      "Method:                 Least Squares   F-statistic:                     7074.\n",
      "Date:                Sat, 10 Nov 2018   Prob (F-statistic):               0.00\n",
      "Time:                        21:38:10   Log-Likelihood:            -1.9584e+05\n",
      "No. Observations:               97615   AIC:                         3.917e+05\n",
      "Df Residuals:                   97613   BIC:                         3.917e+05\n",
      "Df Model:                           1                                         \n",
      "Covariance Type:            nonrobust                                         \n",
      "===============================================================================\n",
      "                  coef    std err          t      P>|t|      [0.025      0.975]\n",
      "-------------------------------------------------------------------------------\n",
      "Intercept       8.1673      0.008    982.410      0.000       8.151       8.184\n",
      "Type_A[T.1]     0.9695      0.012     84.106      0.000       0.947       0.992\n",
      "==============================================================================\n",
      "Omnibus:                    24208.178   Durbin-Watson:                   1.437\n",
      "Prob(Omnibus):                  0.000   Jarque-Bera (JB):            73067.927\n",
      "Skew:                          -1.285   Prob(JB):                         0.00\n",
      "Kurtosis:                       6.371   Cond. No.                         2.67\n",
      "==============================================================================\n",
      "\n",
      "Warnings:\n",
      "[1] Standard Errors assume that the covariance matrix of the errors is correctly specified.\n"
     ]
    }
   ],
   "source": [
    "cols = [cols_store, cols_dept , cols_is_holiday, cols_type]\n",
    "for col in cols:\n",
    "    sum_cols = \"+\".join(col)\n",
    "    form = \"Weekly_Sales ~\" + sum_cols\n",
    "    model = smf.ols(formula= form, data= df_log).fit()\n",
    "    print(sum_cols)\n",
    "    print(model.summary())"
   ]
  },
  {
   "cell_type": "markdown",
   "metadata": {},
   "source": [
    "## Let's drop a few columns in our data set based on our findings"
   ]
  },
  {
   "cell_type": "markdown",
   "metadata": {},
   "source": [
    "- Let's stick with our `walmart_log` data, as it seemed like it was generally resulting in higher R-squared values.\n",
    "- Let's drop continuous variables which resulted in single linear models with a R-squared value <0.01 for the `walmart_log models`.\n",
    "- Let's make sure to drop 1 column for each categorical variable we end up using."
   ]
  },
  {
   "cell_type": "code",
   "execution_count": 25,
   "metadata": {},
   "outputs": [
    {
     "data": {
      "text/html": [
       "<div>\n",
       "<style scoped>\n",
       "    .dataframe tbody tr th:only-of-type {\n",
       "        vertical-align: middle;\n",
       "    }\n",
       "\n",
       "    .dataframe tbody tr th {\n",
       "        vertical-align: top;\n",
       "    }\n",
       "\n",
       "    .dataframe thead th {\n",
       "        text-align: right;\n",
       "    }\n",
       "</style>\n",
       "<table border=\"1\" class=\"dataframe\">\n",
       "  <thead>\n",
       "    <tr style=\"text-align: right;\">\n",
       "      <th></th>\n",
       "      <th>Weekly_Sales</th>\n",
       "      <th>Size</th>\n",
       "      <th>Temperature</th>\n",
       "      <th>CPI</th>\n",
       "    </tr>\n",
       "  </thead>\n",
       "  <tbody>\n",
       "    <tr>\n",
       "      <th>count</th>\n",
       "      <td>97615.000000</td>\n",
       "      <td>97615.000000</td>\n",
       "      <td>97615.000000</td>\n",
       "      <td>97615.000000</td>\n",
       "    </tr>\n",
       "    <tr>\n",
       "      <th>mean</th>\n",
       "      <td>8.671603</td>\n",
       "      <td>0.000193</td>\n",
       "      <td>-0.000011</td>\n",
       "      <td>0.000335</td>\n",
       "    </tr>\n",
       "    <tr>\n",
       "      <th>std</th>\n",
       "      <td>1.863225</td>\n",
       "      <td>1.000262</td>\n",
       "      <td>0.999651</td>\n",
       "      <td>0.999782</td>\n",
       "    </tr>\n",
       "    <tr>\n",
       "      <th>min</th>\n",
       "      <td>-4.605170</td>\n",
       "      <td>-1.611999</td>\n",
       "      <td>-3.843452</td>\n",
       "      <td>-1.958762</td>\n",
       "    </tr>\n",
       "    <tr>\n",
       "      <th>25%</th>\n",
       "      <td>7.766504</td>\n",
       "      <td>-1.028620</td>\n",
       "      <td>-0.708759</td>\n",
       "      <td>-0.126697</td>\n",
       "    </tr>\n",
       "    <tr>\n",
       "      <th>50%</th>\n",
       "      <td>8.948477</td>\n",
       "      <td>0.283436</td>\n",
       "      <td>0.134073</td>\n",
       "      <td>0.499521</td>\n",
       "    </tr>\n",
       "    <tr>\n",
       "      <th>75%</th>\n",
       "      <td>9.948167</td>\n",
       "      <td>1.113495</td>\n",
       "      <td>0.868041</td>\n",
       "      <td>0.635046</td>\n",
       "    </tr>\n",
       "    <tr>\n",
       "      <th>max</th>\n",
       "      <td>13.448929</td>\n",
       "      <td>1.171380</td>\n",
       "      <td>1.738375</td>\n",
       "      <td>0.851771</td>\n",
       "    </tr>\n",
       "  </tbody>\n",
       "</table>\n",
       "</div>"
      ],
      "text/plain": [
       "       Weekly_Sales          Size   Temperature           CPI\n",
       "count  97615.000000  97615.000000  97615.000000  97615.000000\n",
       "mean       8.671603      0.000193     -0.000011      0.000335\n",
       "std        1.863225      1.000262      0.999651      0.999782\n",
       "min       -4.605170     -1.611999     -3.843452     -1.958762\n",
       "25%        7.766504     -1.028620     -0.708759     -0.126697\n",
       "50%        8.948477      0.283436      0.134073      0.499521\n",
       "75%        9.948167      1.113495      0.868041      0.635046\n",
       "max       13.448929      1.171380      1.738375      0.851771"
      ]
     },
     "execution_count": 25,
     "metadata": {},
     "output_type": "execute_result"
    }
   ],
   "source": [
    "df_final = df_log.drop([\"Fuel_Price\",\"Unemployment\",\"IsHoliday\", \"Store_9\", \"Dept_99\",\"Type_B\"], axis=1)\n",
    "df_final.columns[92:121]\n",
    "df_final =df_final.drop(df_final.columns[92:121],axis=1)\n",
    "df_final.describe()"
   ]
  },
  {
   "cell_type": "markdown",
   "metadata": {},
   "source": [
    "## From here on out, use Feature ranking with recursive feature elimination"
   ]
  },
  {
   "cell_type": "markdown",
   "metadata": {},
   "source": [
    "Let's create a matrix X and y containing the predictors and target for our model. Let's use Scikit-Learn's RFE function, documentation again [here](http://scikit-learn.org/stable/modules/classes.html#module-sklearn.feature_selection)."
   ]
  },
  {
   "cell_type": "code",
   "execution_count": 26,
   "metadata": {},
   "outputs": [
    {
     "data": {
      "text/html": [
       "<div>\n",
       "<style scoped>\n",
       "    .dataframe tbody tr th:only-of-type {\n",
       "        vertical-align: middle;\n",
       "    }\n",
       "\n",
       "    .dataframe tbody tr th {\n",
       "        vertical-align: top;\n",
       "    }\n",
       "\n",
       "    .dataframe thead th {\n",
       "        text-align: right;\n",
       "    }\n",
       "</style>\n",
       "<table border=\"1\" class=\"dataframe\">\n",
       "  <thead>\n",
       "    <tr style=\"text-align: right;\">\n",
       "      <th></th>\n",
       "      <th>Size</th>\n",
       "      <th>Temperature</th>\n",
       "      <th>CPI</th>\n",
       "      <th>Store_1</th>\n",
       "      <th>Store_10</th>\n",
       "      <th>Store_2</th>\n",
       "      <th>Store_3</th>\n",
       "      <th>Store_4</th>\n",
       "      <th>Store_5</th>\n",
       "      <th>Store_6</th>\n",
       "      <th>...</th>\n",
       "      <th>Dept_90</th>\n",
       "      <th>Dept_91</th>\n",
       "      <th>Dept_92</th>\n",
       "      <th>Dept_93</th>\n",
       "      <th>Dept_94</th>\n",
       "      <th>Dept_95</th>\n",
       "      <th>Dept_96</th>\n",
       "      <th>Dept_97</th>\n",
       "      <th>Dept_98</th>\n",
       "      <th>Type_A</th>\n",
       "    </tr>\n",
       "  </thead>\n",
       "  <tbody>\n",
       "    <tr>\n",
       "      <th>0</th>\n",
       "      <td>0.283436</td>\n",
       "      <td>-1.301205</td>\n",
       "      <td>0.40349</td>\n",
       "      <td>1</td>\n",
       "      <td>0</td>\n",
       "      <td>0</td>\n",
       "      <td>0</td>\n",
       "      <td>0</td>\n",
       "      <td>0</td>\n",
       "      <td>0</td>\n",
       "      <td>...</td>\n",
       "      <td>0</td>\n",
       "      <td>0</td>\n",
       "      <td>0</td>\n",
       "      <td>0</td>\n",
       "      <td>0</td>\n",
       "      <td>0</td>\n",
       "      <td>0</td>\n",
       "      <td>0</td>\n",
       "      <td>0</td>\n",
       "      <td>1</td>\n",
       "    </tr>\n",
       "    <tr>\n",
       "      <th>1</th>\n",
       "      <td>0.283436</td>\n",
       "      <td>-1.301205</td>\n",
       "      <td>0.40349</td>\n",
       "      <td>1</td>\n",
       "      <td>0</td>\n",
       "      <td>0</td>\n",
       "      <td>0</td>\n",
       "      <td>0</td>\n",
       "      <td>0</td>\n",
       "      <td>0</td>\n",
       "      <td>...</td>\n",
       "      <td>0</td>\n",
       "      <td>0</td>\n",
       "      <td>0</td>\n",
       "      <td>0</td>\n",
       "      <td>0</td>\n",
       "      <td>0</td>\n",
       "      <td>0</td>\n",
       "      <td>0</td>\n",
       "      <td>0</td>\n",
       "      <td>1</td>\n",
       "    </tr>\n",
       "    <tr>\n",
       "      <th>2</th>\n",
       "      <td>0.283436</td>\n",
       "      <td>-1.301205</td>\n",
       "      <td>0.40349</td>\n",
       "      <td>1</td>\n",
       "      <td>0</td>\n",
       "      <td>0</td>\n",
       "      <td>0</td>\n",
       "      <td>0</td>\n",
       "      <td>0</td>\n",
       "      <td>0</td>\n",
       "      <td>...</td>\n",
       "      <td>0</td>\n",
       "      <td>0</td>\n",
       "      <td>0</td>\n",
       "      <td>0</td>\n",
       "      <td>0</td>\n",
       "      <td>0</td>\n",
       "      <td>0</td>\n",
       "      <td>0</td>\n",
       "      <td>0</td>\n",
       "      <td>1</td>\n",
       "    </tr>\n",
       "    <tr>\n",
       "      <th>3</th>\n",
       "      <td>0.283436</td>\n",
       "      <td>-1.301205</td>\n",
       "      <td>0.40349</td>\n",
       "      <td>1</td>\n",
       "      <td>0</td>\n",
       "      <td>0</td>\n",
       "      <td>0</td>\n",
       "      <td>0</td>\n",
       "      <td>0</td>\n",
       "      <td>0</td>\n",
       "      <td>...</td>\n",
       "      <td>0</td>\n",
       "      <td>0</td>\n",
       "      <td>0</td>\n",
       "      <td>0</td>\n",
       "      <td>0</td>\n",
       "      <td>0</td>\n",
       "      <td>0</td>\n",
       "      <td>0</td>\n",
       "      <td>0</td>\n",
       "      <td>1</td>\n",
       "    </tr>\n",
       "    <tr>\n",
       "      <th>4</th>\n",
       "      <td>0.283436</td>\n",
       "      <td>-1.301205</td>\n",
       "      <td>0.40349</td>\n",
       "      <td>1</td>\n",
       "      <td>0</td>\n",
       "      <td>0</td>\n",
       "      <td>0</td>\n",
       "      <td>0</td>\n",
       "      <td>0</td>\n",
       "      <td>0</td>\n",
       "      <td>...</td>\n",
       "      <td>0</td>\n",
       "      <td>0</td>\n",
       "      <td>0</td>\n",
       "      <td>0</td>\n",
       "      <td>0</td>\n",
       "      <td>0</td>\n",
       "      <td>0</td>\n",
       "      <td>0</td>\n",
       "      <td>0</td>\n",
       "      <td>1</td>\n",
       "    </tr>\n",
       "  </tbody>\n",
       "</table>\n",
       "<p>5 rows × 91 columns</p>\n",
       "</div>"
      ],
      "text/plain": [
       "       Size  Temperature      CPI Store_1 Store_10 Store_2 Store_3 Store_4  \\\n",
       "0  0.283436    -1.301205  0.40349       1        0       0       0       0   \n",
       "1  0.283436    -1.301205  0.40349       1        0       0       0       0   \n",
       "2  0.283436    -1.301205  0.40349       1        0       0       0       0   \n",
       "3  0.283436    -1.301205  0.40349       1        0       0       0       0   \n",
       "4  0.283436    -1.301205  0.40349       1        0       0       0       0   \n",
       "\n",
       "  Store_5 Store_6  ...   Dept_90 Dept_91 Dept_92 Dept_93 Dept_94 Dept_95  \\\n",
       "0       0       0  ...         0       0       0       0       0       0   \n",
       "1       0       0  ...         0       0       0       0       0       0   \n",
       "2       0       0  ...         0       0       0       0       0       0   \n",
       "3       0       0  ...         0       0       0       0       0       0   \n",
       "4       0       0  ...         0       0       0       0       0       0   \n",
       "\n",
       "  Dept_96 Dept_97 Dept_98 Type_A  \n",
       "0       0       0       0      1  \n",
       "1       0       0       0      1  \n",
       "2       0       0       0      1  \n",
       "3       0       0       0      1  \n",
       "4       0       0       0      1  \n",
       "\n",
       "[5 rows x 91 columns]"
      ]
     },
     "execution_count": 26,
     "metadata": {},
     "output_type": "execute_result"
    }
   ],
   "source": [
    "y = df_final.Weekly_Sales\n",
    "X = df_final.drop(['Weekly_Sales'], axis=1)\n",
    "X.head()"
   ]
  },
  {
   "cell_type": "markdown",
   "metadata": {},
   "source": [
    "Let's create a for loop using `RFE` where we look at the 5, 15, 25,... up until 85 best features to be selected according to the feature ranking algorithm. Store the R-squared and the adjusted-R-squareds for all these models in a list. What do you see? No need to perform a train-test-split for now- that will be next!"
   ]
  },
  {
   "cell_type": "code",
   "execution_count": 33,
   "metadata": {},
   "outputs": [
    {
     "name": "stdout",
     "output_type": "stream",
     "text": [
      "Index(['Size', 'Store_3', 'Store_4', 'Store_5', 'Store_7'], dtype='object')\n",
      "Coef: [ 0.45077787 -0.38122699  0.101484   -0.4393094  -0.27179927]\n",
      "Intercept: 8.76361186041255\n"
     ]
    }
   ],
   "source": [
    "from sklearn.svm import LinearSVC\n",
    "from sklearn.feature_selection import RFE\n",
    "from sklearn.linear_model import LinearRegression\n",
    "\n",
    "\n",
    "linreg = LinearRegression()\n",
    "selector = RFE(linreg, n_features_to_select = 5)\n",
    "selector = selector.fit(X, y)\n",
    "selected_columns = X.columns[selector.support_]\n",
    "estimators = selector.estimator_\n",
    "print(selected_columns)\n",
    "print(\"Coef:\",estimators.coef_)\n",
    "print(\"Intercept:\", estimators.intercept_)"
   ]
  },
  {
   "cell_type": "code",
   "execution_count": null,
   "metadata": {},
   "outputs": [],
   "source": [
    "linreg.fit(X[selected_columns],y)\n",
    "yhat = linreg.predict(X[selected_columns])\n",
    "ss_resid = np.sum(y-yhat)**2\n",
    "ss_total = np.sum((y-np.mean(y))**2)\n",
    "r_sq_rfe = 1 - (float(ss_resid))/ss_total\n",
    "adj_r_sq_rfe = 1 - (1-r_sq_rfe)*(len(y)-1)/(len(y)-X.shape[1]-1)\n",
    "print(\"R_sq:\", r_sq_rfe)\n",
    "print(\"Adj_R_sq:\", adj_r_sq_rfe)"
   ]
  },
  {
   "cell_type": "code",
   "execution_count": 41,
   "metadata": {},
   "outputs": [
    {
     "name": "stdout",
     "output_type": "stream",
     "text": [
      "Number of features: 5\n",
      "R squared: 0.1093\n",
      "Adjusted R squared: 0.1085\n",
      "Number of features: 15\n",
      "R squared: 0.1991\n",
      "Adjusted R squared: 0.1984\n",
      "Number of features: 25\n",
      "R squared: 0.3477\n",
      "Adjusted R squared: 0.3471\n",
      "Number of features: 35\n",
      "R squared: 0.455\n",
      "Adjusted R squared: 0.4545\n",
      "Number of features: 45\n",
      "R squared: 0.5386\n",
      "Adjusted R squared: 0.5382\n",
      "Number of features: 55\n",
      "R squared: 0.6086\n",
      "Adjusted R squared: 0.6082\n",
      "Number of features: 65\n",
      "R squared: 0.6617\n",
      "Adjusted R squared: 0.6613\n",
      "Number of features: 75\n",
      "R squared: 0.711\n",
      "Adjusted R squared: 0.7107\n",
      "Number of features: 85\n",
      "R squared: 0.7715\n",
      "Adjusted R squared: 0.7713\n"
     ]
    }
   ],
   "source": [
    "r_list = []\n",
    "adj_r_list = []\n",
    "list_n = list(range(5,86,10))\n",
    "for n in list_n: \n",
    "    select_n = RFE(linreg, n_features_to_select = n)\n",
    "    select_n = select_n.fit(X, np.ravel(y))\n",
    "    selected_columns = X.columns[select_n.support_ ]\n",
    "    linreg.fit(X[selected_columns],y)\n",
    "    yhat = linreg.predict(X[selected_columns])\n",
    "    SS_Residual = np.sum((y-yhat)**2)\n",
    "    SS_Total = np.sum((y-np.mean(y))**2)\n",
    "    r_squared = 1 - (float(SS_Residual))/SS_Total\n",
    "    adjusted_r_squared = 1 - (1-r_squared)*(len(y)-1)/(len(y)-X.shape[1]-1)\n",
    "    print(\"Number of features:\", n)\n",
    "    print(\"R squared:\",round(r_squared, 4))\n",
    "    print(\"Adjusted R squared:\", round(adjusted_r_squared,4))\n",
    "r_list.append(r_squared)\n",
    "adj_r_list.append(adjusted_r_squared)"
   ]
  },
  {
   "cell_type": "markdown",
   "metadata": {},
   "source": [
    "The difference between $R^2$ and adjusted $R^2$ is negligible, and seems to continue to be going up as we include more features. Remember though that we're likely overfitting when including 85 features. In order to identify this, let's rerun a similar experiment, but using a train test split!"
   ]
  },
  {
   "cell_type": "markdown",
   "metadata": {},
   "source": [
    "## Including a train-test-split"
   ]
  },
  {
   "cell_type": "markdown",
   "metadata": {},
   "source": [
    "Let's create a similar for loop to what we did before. Except, this time\n",
    "- Use a train test split of 20-80\n",
    "- Instead of looking at $R^2$ and $R^2_{adj}$, look at the MSE for train and test"
   ]
  },
  {
   "cell_type": "code",
   "execution_count": 46,
   "metadata": {},
   "outputs": [
    {
     "name": "stdout",
     "output_type": "stream",
     "text": [
      "Number of features: 5\n",
      "MSE Test: 3.2535\n",
      "MSE Train: 3.1878\n",
      "Number of features: 15\n",
      "MSE Test: 2.8239\n",
      "MSE Train: 2.7694\n",
      "Number of features: 25\n",
      "MSE Test: 2.3065\n",
      "MSE Train: 2.2541\n",
      "Number of features: 35\n",
      "MSE Test: 1.9465\n",
      "MSE Train: 1.8917\n",
      "Number of features: 45\n",
      "MSE Test: 1.6436\n",
      "MSE Train: 1.5914\n",
      "Number of features: 55\n",
      "MSE Test: 1.3907\n",
      "MSE Train: 1.3511\n",
      "Number of features: 65\n",
      "MSE Test: 1.2046\n",
      "MSE Train: 1.1672\n",
      "Number of features: 75\n",
      "MSE Test: 1.0277\n",
      "MSE Train: 0.9975\n",
      "Number of features: 85\n",
      "MSE Test: 0.8094\n",
      "MSE Train: 0.7892\n"
     ]
    }
   ],
   "source": [
    "from sklearn.model_selection import train_test_split\n",
    "\n",
    "X_train, X_test, y_train, y_test = train_test_split(X, y, test_size=0.2)\n",
    "\n",
    "MSE_test = []\n",
    "MSE_train = []\n",
    "list_n = list(range(5,86,10))\n",
    "for n in list_n: \n",
    "    select_n = RFE(linreg, n_features_to_select = n)\n",
    "    select_n = select_n.fit(X_train, y_train)\n",
    "    selected_columns = X.columns[select_n.support_ ]\n",
    "    linreg.fit(X_train[selected_columns],y_train)\n",
    "    y_hat_train = linreg.predict(X_train[selected_columns])\n",
    "    y_hat_test =  linreg.predict(X_test[selected_columns])\n",
    "    train_resid = y_hat_train - y_train\n",
    "    test_resid = y_hat_test - y_test\n",
    "    mse_train = np.sum((y_train - y_hat_train)**2) / len(y_train)\n",
    "    mse_test = np.sum((y_test - y_hat_test)**2) / len(y_test)\n",
    "    print(\"Number of features:\", n)\n",
    "    print(\"MSE Test:\",round(mse_test, 4))\n",
    "    print(\"MSE Train:\", round(mse_train,4))\n",
    "MSE_test.append(mse_test)\n",
    "MSE_train.append(mse_train)"
   ]
  },
  {
   "cell_type": "markdown",
   "metadata": {},
   "source": [
    "What we see is that both MSE keeps improving when we add variables. It seems like a bigger model improves our performance, and the test and train performance don't really diverge. It is important to note however that is not an unusual result. The performance measures used typically will show this type of behavior. In order to really be able to balance the curse of dimensionality (which will become more important in machine learning), we need other information criteria such as AIC and BIC. You'll learn about them later! Now, let's perform cross-validation on our model with 85 predictors!"
   ]
  },
  {
   "cell_type": "markdown",
   "metadata": {},
   "source": [
    "## 10-fold cross validation with the final model"
   ]
  },
  {
   "cell_type": "markdown",
   "metadata": {},
   "source": [
    "Create a 10-fold cross-validation and store the (negative) MSEs "
   ]
  },
  {
   "cell_type": "code",
   "execution_count": 50,
   "metadata": {},
   "outputs": [
    {
     "data": {
      "text/plain": [
       "array([-7.98787572e-01, -7.34749647e-01, -1.09729470e+00, -7.40098488e-01,\n",
       "       -7.68690113e+19, -5.69682577e-01, -1.07092786e+00, -6.17852900e-01,\n",
       "       -6.80136208e+20, -1.62586357e+00])"
      ]
     },
     "execution_count": 50,
     "metadata": {},
     "output_type": "execute_result"
    }
   ],
   "source": [
    "from sklearn.metrics import mean_squared_error\n",
    "from sklearn.model_selection import cross_val_score\n",
    "\n",
    "linreg = LinearRegression()\n",
    "selector = RFE(linreg, n_features_to_select = 85)\n",
    "selector = selector.fit(X, y)\n",
    "selected_columns = X.columns[selector.support_]\n",
    "\n",
    "cv_10_results = cross_val_score(linreg, X[selected_columns], y, cv=10, scoring=\"neg_mean_squared_error\")\n",
    "cv_10_results"
   ]
  },
  {
   "cell_type": "markdown",
   "metadata": {},
   "source": [
    "Running our 10-fold cross-validation highlights some issues for sure! Have a look at your list of 10 MSEs. Where most MSEs are manageable, some are very high. The cure of dimensionality is already pretty clear here. The issue is that we have many (dummy) categorical variables that result in columns with many zeroes and few ones. This means that for some folds, there is a risk of ending up with columns that almost exclusively contain 0's for prediction, which might cause weird results. Looking at this, a model with less predictors might make sense again. This is where we conclude for now. It's up to you now to explore other model options! Additionally, it is encouraged to try some of the \"level up\" exercises below. Good luck!"
   ]
  },
  {
   "cell_type": "markdown",
   "metadata": {},
   "source": [
    "# Level up - Optional\n",
    "\n",
    "\n",
    "- You could argue that **throwing out negative sales figures is problematic**, because these are probably the types of observations a stakeholder would be very interested in knowing. Repeat your analysis, but now, instead of removing the rows with negative sales, replace their sales with a slightly positive value (eg. 1), so they have an existing and finite value. Does the result change?\n",
    "\n",
    "- Go back and log-transform `CPI` and `Size` before standardizing it (we did this a few lessons ago). Look at the histogram and see if there is an improvement.\n",
    "- You might have noticed we ignored `binned_markdown` throughout. Add it in the model and see how it changes the results!\n",
    "\n",
    "- Try other feature selection methods such as stepwise selection and forward selection seen in section 11.\n"
   ]
  },
  {
   "cell_type": "markdown",
   "metadata": {},
   "source": [
    "## Summary"
   ]
  },
  {
   "cell_type": "markdown",
   "metadata": {},
   "source": [
    "Congratulations, you made it to the end of the last section in this module. Now it's time for a big project on multiple linear regression!"
   ]
  }
 ],
 "metadata": {
  "kernelspec": {
   "display_name": "learn-env",
   "language": "python",
   "name": "learn-env"
  },
  "language_info": {
   "codemirror_mode": {
    "name": "ipython",
    "version": 3
   },
   "file_extension": ".py",
   "mimetype": "text/x-python",
   "name": "python",
   "nbconvert_exporter": "python",
   "pygments_lexer": "ipython3",
   "version": "3.6.6"
  }
 },
 "nbformat": 4,
 "nbformat_minor": 2
}
